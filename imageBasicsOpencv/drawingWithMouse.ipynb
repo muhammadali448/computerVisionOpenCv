{
 "cells": [
  {
   "cell_type": "code",
   "execution_count": null,
   "metadata": {},
   "outputs": [],
   "source": [
    "import cv2\n",
    "import numpy as np\n",
    "\n",
    "\n",
    "#### Function ####\n",
    "\n",
    "def draw_circle(event, x, y, flags, param):\n",
    "    if event == cv2.EVENT_LBUTTONDOWN:\n",
    "        cv2.circle(img, (x, y), 100, (255, 0, 0), -1)\n",
    "cv2.namedWindow(\"my_drawing\")\n",
    "cv2.setMouseCallback(\"my_drawing\", draw_circle)\n",
    "\n",
    "#### Showing Image ####\n",
    "img = np.zeros([512, 512, 3], dtype=np.int8)\n",
    "while True:\n",
    "    if cv2.waitKey(20) & 0xFF == 27:\n",
    "        break\n",
    "    cv2.imshow(\"my_drawing\", img)\n",
    "cv2.destroyAllWindows()    "
   ]
  }
 ],
 "metadata": {
  "kernelspec": {
   "display_name": "Python 3",
   "language": "python",
   "name": "python3"
  },
  "language_info": {
   "codemirror_mode": {
    "name": "ipython",
    "version": 3
   },
   "file_extension": ".py",
   "mimetype": "text/x-python",
   "name": "python",
   "nbconvert_exporter": "python",
   "pygments_lexer": "ipython3",
   "version": "3.6.8"
  }
 },
 "nbformat": 4,
 "nbformat_minor": 2
}
